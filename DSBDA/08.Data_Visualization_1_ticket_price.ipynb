{
 "cells": [
  {
   "cell_type": "code",
   "execution_count": null,
   "id": "65e49fb2",
   "metadata": {},
   "outputs": [],
   "source": [
    "import pandas as pd\n",
    "mport numpy as np\n",
    "import matplotlib.pyplot as plt\n",
    "import seaborn as sns\n",
    "dataset = sns.load_dataset('titanic')\n",
    "dataset.head()"
   ]
  },
  {
   "cell_type": "code",
   "execution_count": null,
   "id": "9bf6e147",
   "metadata": {},
   "outputs": [],
   "source": [
    "sns.distplot(dataset['fare'])\n",
    "plt.show()"
   ]
  },
  {
   "cell_type": "code",
   "execution_count": null,
   "id": "326e5aa8",
   "metadata": {},
   "outputs": [],
   "source": [
    "sns.distplot(dataset['fare'], kde=False, bins=10)\n",
    "plt.show()"
   ]
  },
  {
   "cell_type": "code",
   "execution_count": null,
   "id": "3b7408c4",
   "metadata": {},
   "outputs": [],
   "source": [
    "sns.jointplot(x='age', y='fare', data=dataset)\n",
    "plt.show()"
   ]
  },
  {
   "cell_type": "code",
   "execution_count": null,
   "id": "0b4a80c4",
   "metadata": {},
   "outputs": [],
   "source": [
    "sns.jointplot(x='age', y='fare', data=dataset, kind='hex')\n",
    "plt.show()"
   ]
  },
  {
   "cell_type": "code",
   "execution_count": null,
   "id": "aaaa7008",
   "metadata": {},
   "outputs": [],
   "source": [
    "dataset = dataset.dropna()"
   ]
  },
  {
   "cell_type": "code",
   "execution_count": null,
   "id": "15bea873",
   "metadata": {},
   "outputs": [],
   "source": [
    "sns.pairplot(dataset)\n",
    "plt.show()"
   ]
  },
  {
   "cell_type": "code",
   "execution_count": null,
   "id": "c0f49095",
   "metadata": {},
   "outputs": [],
   "source": [
    "sns.pairplot(dataset, hue ='sex')\n",
    "plt.show()"
   ]
  },
  {
   "cell_type": "code",
   "execution_count": null,
   "id": "48bfcddf",
   "metadata": {},
   "outputs": [],
   "source": [
    "sns.rugplot(dataset['fare'])"
   ]
  },
  {
   "cell_type": "code",
   "execution_count": null,
   "id": "3ce2ecdf",
   "metadata": {},
   "outputs": [],
   "source": [
    "plt.show()"
   ]
  },
  {
   "cell_type": "code",
   "execution_count": null,
   "id": "baa40a16",
   "metadata": {},
   "outputs": [],
   "source": [
    "sns.barplot(x='sex', y='age', data=dataset)\n",
    "plt.show()"
   ]
  },
  {
   "cell_type": "code",
   "execution_count": null,
   "id": "e7429612",
   "metadata": {},
   "outputs": [],
   "source": [
    "sns.barplot(x='sex', y='age', data=dataset, estimator=np.std)\n",
    "plt.show()"
   ]
  },
  {
   "cell_type": "code",
   "execution_count": null,
   "id": "35ff122e",
   "metadata": {},
   "outputs": [],
   "source": [
    "sns.countplot(x='sex', data=dataset)\n",
    "plt.show()"
   ]
  },
  {
   "cell_type": "code",
   "execution_count": null,
   "id": "b6d446c7",
   "metadata": {},
   "outputs": [],
   "source": [
    "sns.boxplot(x='sex', y='age', data=dataset)\n",
    "plt.show()"
   ]
  },
  {
   "cell_type": "code",
   "execution_count": null,
   "id": "57a01228",
   "metadata": {},
   "outputs": [],
   "source": [
    "sns.boxplot(x='sex', y='age', data=dataset, hue=\"survived\")\n",
    "plt.show()"
   ]
  },
  {
   "cell_type": "code",
   "execution_count": null,
   "id": "7d92e761",
   "metadata": {},
   "outputs": [],
   "source": [
    "sns.violinplot(x='sex', y='age', data=dataset)\n",
    "plt.show()"
   ]
  },
  {
   "cell_type": "code",
   "execution_count": null,
   "id": "b4422220",
   "metadata": {},
   "outputs": [],
   "source": [
    "sns.violinplot(x='sex', y='age', data=dataset, hue='survived')\n",
    "plt.show()"
   ]
  },
  {
   "cell_type": "code",
   "execution_count": null,
   "id": "abc452db",
   "metadata": {},
   "outputs": [],
   "source": [
    "sns.violinplot(x='sex', y='age', data=dataset, hue='survived', split=True)\n",
    "plt.show()"
   ]
  },
  {
   "cell_type": "code",
   "execution_count": null,
   "id": "7f92d26f",
   "metadata": {},
   "outputs": [],
   "source": [
    "sns.stripplot(x='sex', y='age', data=dataset)\n",
    "plt.show()"
   ]
  },
  {
   "cell_type": "code",
   "execution_count": null,
   "id": "663fd2e6",
   "metadata": {},
   "outputs": [],
   "source": [
    "sns.stripplot(x='sex', y='age', data=dataset, jitter=True)\n",
    "plt.show()"
   ]
  },
  {
   "cell_type": "code",
   "execution_count": null,
   "id": "56cf6a23",
   "metadata": {},
   "outputs": [],
   "source": [
    "sns.stripplot(x='sex', y='age', data=dataset, jitter=True, hue='survived')\n",
    "plt.show()"
   ]
  },
  {
   "cell_type": "code",
   "execution_count": null,
   "id": "ac17b852",
   "metadata": {},
   "outputs": [],
   "source": [
    "sns.stripplot(x='sex', y='age', data=dataset, jitter=True, hue='survived', split=True)\n",
    "plt.show()"
   ]
  },
  {
   "cell_type": "code",
   "execution_count": null,
   "id": "8d67c40d",
   "metadata": {},
   "outputs": [],
   "source": [
    "sns.swarmplot(x='sex', y='age', data=dataset)\n",
    "plt.show()"
   ]
  },
  {
   "cell_type": "code",
   "execution_count": null,
   "id": "8afe9f91",
   "metadata": {},
   "outputs": [],
   "source": [
    "sns.swarmplot(x='sex', y='age', data=dataset, hue='survived')\n",
    "plt.show()"
   ]
  },
  {
   "cell_type": "code",
   "execution_count": null,
   "id": "1beaad4a",
   "metadata": {},
   "outputs": [],
   "source": [
    "sns.swarmplot(x='sex', y='age', data=dataset, hue='survived', split=True)\n",
    "plt.show()"
   ]
  },
  {
   "cell_type": "code",
   "execution_count": null,
   "id": "377bf6cd",
   "metadata": {},
   "outputs": [],
   "source": [
    "sns.violinplot(x='sex', y='age', data=dataset)\n",
    "sns.swarmplot(x='sex', y='age', data=dataset, color='black')\n",
    "plt.show()"
   ]
  },
  {
   "cell_type": "code",
   "execution_count": null,
   "id": "36beda54",
   "metadata": {},
   "outputs": [],
   "source": []
  }
 ],
 "metadata": {
  "kernelspec": {
   "display_name": "Python 3 (ipykernel)",
   "language": "python",
   "name": "python3"
  },
  "language_info": {
   "codemirror_mode": {
    "name": "ipython",
    "version": 3
   },
   "file_extension": ".py",
   "mimetype": "text/x-python",
   "name": "python",
   "nbconvert_exporter": "python",
   "pygments_lexer": "ipython3",
   "version": "3.9.6"
  }
 },
 "nbformat": 4,
 "nbformat_minor": 5
}
