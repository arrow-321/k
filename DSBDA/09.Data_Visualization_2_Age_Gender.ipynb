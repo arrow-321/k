{
 "cells": [
  {
   "cell_type": "code",
   "execution_count": 1,
   "id": "0aa74f9e",
   "metadata": {},
   "outputs": [],
   "source": [
    "import numpy as np\n",
    "import pandas as pd\n",
    "import matplotlib.pyplot as plt\n",
    "import seaborn as sns\n",
    "from seaborn import load_dataset"
   ]
  },
  {
   "cell_type": "code",
   "execution_count": null,
   "id": "98955068",
   "metadata": {},
   "outputs": [],
   "source": [
    "data = pd.read_csv(\"titanic_train.csv\")\n",
    "tips = load_dataset(\"tips\")"
   ]
  },
  {
   "cell_type": "code",
   "execution_count": null,
   "id": "317228c8",
   "metadata": {},
   "outputs": [],
   "source": [
    "sns.countplot(data['Survived'])\n",
    "plt.show()"
   ]
  },
  {
   "cell_type": "code",
   "execution_count": null,
   "id": "45bbb75c",
   "metadata": {},
   "outputs": [],
   "source": [
    "data['Sex'].value_counts().plot(kind=\"pie\", autopct=\"%.2f\")\n",
    "plt.show()"
   ]
  },
  {
   "cell_type": "code",
   "execution_count": null,
   "id": "7632b513",
   "metadata": {},
   "outputs": [],
   "source": [
    "plt.hist(data['Fare'], bins=5)\n",
    "plt.show()"
   ]
  },
  {
   "cell_type": "code",
   "execution_count": null,
   "id": "f8e6ea10",
   "metadata": {},
   "outputs": [],
   "source": [
    "sns.distplot(data['Fare'])\n",
    "plt.show()"
   ]
  },
  {
   "cell_type": "code",
   "execution_count": null,
   "id": "e25965be",
   "metadata": {},
   "outputs": [],
   "source": [
    "sns.scatterplot(tips[\"total_bill\"], tips[\"tip\"])\n",
    "plt.show()"
   ]
  },
  {
   "cell_type": "code",
   "execution_count": null,
   "id": "da3fb106",
   "metadata": {},
   "outputs": [],
   "source": [
    "sns.scatterplot(tips[\"total_bill\"], tips[\"tip\"], hue=tips[\"sex\"])\n",
    "plt.show()"
   ]
  },
  {
   "cell_type": "code",
   "execution_count": null,
   "id": "efda7a92",
   "metadata": {},
   "outputs": [],
   "source": [
    "sns.scatterplot(tips[\"total_bill\"], tips[\"tip\"], hue=tips[\"sex\"], style=tips['smoker'])\n",
    "plt.show()"
   ]
  },
  {
   "cell_type": "code",
   "execution_count": null,
   "id": "97ad0bf1",
   "metadata": {},
   "outputs": [],
   "source": [
    "sns.barplot(data['Pclass'], data['Age'])\n",
    "plt.show()"
   ]
  },
  {
   "cell_type": "code",
   "execution_count": null,
   "id": "fc6b2cb3",
   "metadata": {},
   "outputs": [],
   "source": [
    "sns.barplot(data['Pclass'], data['Fare'], hue = data[\"Sex\"])\n",
    "plt.show()"
   ]
  },
  {
   "cell_type": "code",
   "execution_count": null,
   "id": "049163ba",
   "metadata": {},
   "outputs": [],
   "source": [
    "sns.boxplot(data['Sex'], data[\"Age\"])\n",
    "plt.show()"
   ]
  },
  {
   "cell_type": "code",
   "execution_count": null,
   "id": "30ae81bb",
   "metadata": {},
   "outputs": [],
   "source": [
    "sns.boxplot(data['Sex'], data[\"Age\"], data[\"Survived\"])\n",
    "plt.show()"
   ]
  },
  {
   "cell_type": "code",
   "execution_count": null,
   "id": "dab3f95c",
   "metadata": {},
   "outputs": [],
   "source": [
    "sns.distplot(data[data['Survived'] == 0]['Age'], hist=False, color=\"blue\")\n",
    "sns.distplot(data[data['Survived'] == 1]['Age'], hist=False, color=\"orange\")\n",
    "plt.show()"
   ]
  },
  {
   "cell_type": "code",
   "execution_count": null,
   "id": "ba27f759",
   "metadata": {},
   "outputs": [],
   "source": [
    "pd.crosstab(data['Pclass'], data['Survived'])"
   ]
  },
  {
   "cell_type": "code",
   "execution_count": null,
   "id": "1290d916",
   "metadata": {},
   "outputs": [],
   "source": [
    "sns.heatmap(pd.crosstab(data['Pclass'], data['Survived']))\n",
    "plt.show()"
   ]
  },
  {
   "cell_type": "code",
   "execution_count": null,
   "id": "276ceacb",
   "metadata": {},
   "outputs": [],
   "source": [
    "sns.clustermap(pd.crosstab(data['Parch'], data['Survived']))\n",
    "plt.show()"
   ]
  },
  {
   "cell_type": "code",
   "execution_count": null,
   "id": "f6fec164",
   "metadata": {},
   "outputs": [],
   "source": []
  },
  {
   "cell_type": "code",
   "execution_count": null,
   "id": "0846210a",
   "metadata": {},
   "outputs": [],
   "source": []
  }
 ],
 "metadata": {
  "kernelspec": {
   "display_name": "Python 3 (ipykernel)",
   "language": "python",
   "name": "python3"
  },
  "language_info": {
   "codemirror_mode": {
    "name": "ipython",
    "version": 3
   },
   "file_extension": ".py",
   "mimetype": "text/x-python",
   "name": "python",
   "nbconvert_exporter": "python",
   "pygments_lexer": "ipython3",
   "version": "3.9.6"
  }
 },
 "nbformat": 4,
 "nbformat_minor": 5
}
